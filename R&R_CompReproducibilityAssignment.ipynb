{
  "nbformat": 4,
  "nbformat_minor": 0,
  "metadata": {
    "colab": {
      "provenance": []
    },
    "kernelspec": {
      "name": "python3",
      "display_name": "Python 3"
    },
    "language_info": {
      "name": "python"
    }
  },
  "cells": [
    {
      "cell_type": "code",
      "execution_count": 1,
      "metadata": {
        "colab": {
          "base_uri": "https://localhost:8080/"
        },
        "id": "kkjZf2v1mJ72",
        "outputId": "c7359fb6-132e-4520-e49c-46d8cf85e477"
      },
      "outputs": [
        {
          "output_type": "stream",
          "name": "stdout",
          "text": [
            "Today's date: 2024-10-29\n"
          ]
        }
      ],
      "source": [
        "import datetime\n",
        "\n",
        "today = datetime.date.today()\n",
        "print(\"Today's date:\", today)"
      ]
    },
    {
      "cell_type": "code",
      "source": [
        "print(\"4 x 4 =\", 4*4)"
      ],
      "metadata": {
        "colab": {
          "base_uri": "https://localhost:8080/"
        },
        "id": "jWMcJW23mezb",
        "outputId": "a9304726-0311-4357-c133-b3dd4a6f4e2e"
      },
      "execution_count": 2,
      "outputs": [
        {
          "output_type": "stream",
          "name": "stdout",
          "text": [
            "4 x 4 = 16\n"
          ]
        }
      ]
    },
    {
      "cell_type": "markdown",
      "source": [
        "Platforms like GitHub help with computational reprodicubility in regards to data sharing, storage, management, and analysis. The collaborative aspect of allows for multiple people to have access to others' code. The makes code sharing more straightforward and increases the liklihood that others can reproduce the same results using the same code. In terms of data management, repositories are reliable places to store data to avoid misplacing data files or losing certain revisions of their files. Repositories can also be helpful for preparing files for further analysis which increases the liklihood that the results of this analysis will be reproducible due to the improved quality of the inputted data.\n",
        "\n"
      ],
      "metadata": {
        "id": "fetO53M6n9ip"
      }
    }
  ]
}